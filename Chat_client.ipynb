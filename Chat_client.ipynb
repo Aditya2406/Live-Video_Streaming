{
 "cells": [
  {
   "cell_type": "code",
   "execution_count": 1,
   "metadata": {},
   "outputs": [],
   "source": [
    "import socket\n"
   ]
  },
  {
   "cell_type": "code",
   "execution_count": 2,
   "metadata": {},
   "outputs": [],
   "source": [
    "c = socket.socket()\n"
   ]
  },
  {
   "cell_type": "code",
   "execution_count": null,
   "metadata": {},
   "outputs": [
    {
     "name": "stdout",
     "output_type": "stream",
     "text": [
      "client> hello\n",
      "Received : hello\n"
     ]
    }
   ],
   "source": [
    "try:\n",
    "    c.connect(('localhost',9999))\n",
    "    msg = input(\"client> \")\n",
    "    while msg != 'exit':\n",
    "        c.sendall(msg.encode('utf-8'))\n",
    "        data = c.recv(2048)\n",
    "        print(\"Received : %s\" % data.decode('utf-8'))\n",
    "        msg = input('client> ')\n",
    "except socket.gaierror as e:\n",
    "    print(\"Socket error:%s\" % str(e))\n",
    "except Exception as e:\n",
    "    print(e)\n",
    "finally:\n",
    "    c.close()"
   ]
  },
  {
   "cell_type": "code",
   "execution_count": null,
   "metadata": {},
   "outputs": [],
   "source": []
  }
 ],
 "metadata": {
  "kernelspec": {
   "display_name": "Python 3",
   "language": "python",
   "name": "python3"
  },
  "language_info": {
   "codemirror_mode": {
    "name": "ipython",
    "version": 3
   },
   "file_extension": ".py",
   "mimetype": "text/x-python",
   "name": "python",
   "nbconvert_exporter": "python",
   "pygments_lexer": "ipython3",
   "version": "3.8.5"
  }
 },
 "nbformat": 4,
 "nbformat_minor": 4
}
